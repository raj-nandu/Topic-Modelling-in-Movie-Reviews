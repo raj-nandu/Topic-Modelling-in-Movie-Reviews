{
 "cells": [
  {
   "cell_type": "code",
   "execution_count": 2,
   "metadata": {},
   "outputs": [],
   "source": [
    "# importing all the dependencies\n",
    "import gensim\n",
    "from gensim import corpora\n",
    "from nltk.corpus import stopwords\n",
    "import string\n",
    "import pickle\n",
    "from nltk.stem.wordnet import WordNetLemmatizer"
   ]
  },
  {
   "cell_type": "code",
   "execution_count": 3,
   "metadata": {},
   "outputs": [
    {
     "name": "stdout",
     "output_type": "stream",
     "text": [
      "1222\n",
      "{'now', 'not', 'being', 'hers', 'its', 'himself', 'too', 'more', 'me', 'a', 'aren', 'or', 'again', 'once', 'hadn', 'such', 'but', 'should', 'where', 'all', 'd', 'ourselves', 'further', 'didn', 'out', 'into', 'over', 'most', 'few', 'after', 'can', 'mustn', 'those', 'll', 'yours', 'did', 'having', 'themselves', 'doesn', 'i', 'so', 'an', 'him', 'isn', 'each', 'herself', 'they', 'until', 'no', 'wouldn', 'was', 'other', 'ain', 'then', 'is', 'yourselves', 'any', 'our', 'this', 'were', 'as', 'shan', 'be', 'am', 'haven', 'in', 'what', 'both', 'had', 'will', 'and', 'who', 's', 'wasn', 'them', 'these', 'her', 'for', 'myself', 'some', 'than', 'couldn', 'does', 'don', 'it', 'of', 'only', 'itself', 'during', 'there', 'just', 'if', 'are', 'that', 'while', 'm', 'how', 'down', 'whom', 'yourself', 've', 'we', 'she', 'doing', 'with', 'below', 'weren', 'mightn', 'theirs', 'y', 'needn', 'by', 'shouldn', 'which', 'been', 're', 'he', 'do', 'above', 'o', 'against', 'nor', 'your', 'has', 'you', 'between', 'to', 'their', 'on', 'here', 'before', 'have', 'when', 'very', 'from', 'my', 'up', 'under', 'ma', 'won', 'off', 'through', 'because', 'hasn', 'same', 'ours', 'about', 'own', 't', 'why', 'the', 'at', 'his'}\n",
      "{'*', '$', '~', '+', '}', '|', '.', '?', ']', '[', '=', \"'\", '-', '`', '!', '@', '_', ',', '<', '\"', '#', ';', '\\\\', ':', '/', '&', '%', '>', '(', '{', '^', ')'}\n"
     ]
    }
   ],
   "source": [
    "#cleaning the dataset\n",
    "with open(\"reviews.pkl\", 'rb') as data:\n",
    "    reviews = pickle.load(data)\n",
    "print(str(len(reviews)))\n",
    "\n",
    "stopwords_set = set(stopwords.words('english'))\n",
    "print(stopwords_set)\n",
    "punctuations = set(string.punctuation)\n",
    "print(punctuations)\n",
    "lemmatizer = WordNetLemmatizer()\n",
    "\n",
    "def clean_review(review):\n",
    "    # Removing stopwords\n",
    "    s = \" \".join([word for word in review.lower().split() if word not in stopwords_set])\n",
    "    # Removing punctuations\n",
    "    p = ''.join(letter for letter in s if letter not in punctuations)\n",
    "    # Lemmatizing words eg. loves -> love\n",
    "    out = \" \".join(lemmatizer.lemmatize(word) for word in p.split())\n",
    "    return out\n",
    "\n",
    "\n",
    "cleaned_reviews = [clean_review(review).split() for review in reviews]"
   ]
  },
  {
   "cell_type": "code",
   "execution_count": 8,
   "metadata": {},
   "outputs": [
    {
     "data": {
      "text/plain": [
       "1222"
      ]
     },
     "execution_count": 8,
     "metadata": {},
     "output_type": "execute_result"
    }
   ],
   "source": [
    "# length of cleaned reviews\n",
    "len(cleaned_reviews)"
   ]
  },
  {
   "cell_type": "code",
   "execution_count": 9,
   "metadata": {
    "collapsed": true
   },
   "outputs": [],
   "source": [
    "# Creating a dictionary\n",
    "dictionary = corpora.Dictionary(cleaned_reviews)"
   ]
  },
  {
   "cell_type": "code",
   "execution_count": 10,
   "metadata": {
    "collapsed": true
   },
   "outputs": [],
   "source": [
    "inp = [dictionary.doc2bow(review) for review in cleaned_reviews]"
   ]
  },
  {
   "cell_type": "code",
   "execution_count": 11,
   "metadata": {
    "collapsed": true
   },
   "outputs": [],
   "source": [
    "# Creating lda model\n",
    "lda = gensim.models.ldamodel.LdaModel\n",
    "ldamodel = lda(inp, num_topics=5, id2word=dictionary, passes=75)\n",
    "a = ldamodel.print_topics(num_topics=5, num_words=5)"
   ]
  },
  {
   "cell_type": "code",
   "execution_count": 20,
   "metadata": {},
   "outputs": [
    {
     "name": "stdout",
     "output_type": "stream",
     "text": [
      "[(0, 0.03292397), (2, 0.06108385), (1, 0.089471988), (4, 0.25228694), (3, 0.56423324)]\n"
     ]
    }
   ],
   "source": [
    "print(a)"
   ]
  },
  {
   "cell_type": "code",
   "execution_count": 14,
   "metadata": {},
   "outputs": [
    {
     "data": {
      "text/plain": [
       "['so',\n",
       " 'airlift',\n",
       " 'one',\n",
       " 'akshay',\n",
       " 'kumars',\n",
       " 'best',\n",
       " 'performance',\n",
       " 'along',\n",
       " 'sterling',\n",
       " 'act',\n",
       " 'rich',\n",
       " 'indianorigin',\n",
       " 'businessman',\n",
       " 'ranjit',\n",
       " 'katyal',\n",
       " 'akshay',\n",
       " 'love',\n",
       " 'profit',\n",
       " 'dislike',\n",
       " 'idea',\n",
       " 'india',\n",
       " 'ranjits',\n",
       " 'golden',\n",
       " 'life',\n",
       " 'desert',\n",
       " 'crumbles',\n",
       " 'iraqi',\n",
       " 'force',\n",
       " 'invade',\n",
       " 'kuwait',\n",
       " 'suddenly',\n",
       " 'people',\n",
       " 'savagely',\n",
       " 'shot',\n",
       " 'street',\n",
       " 'house',\n",
       " 'looted',\n",
       " 'building',\n",
       " 'blown',\n",
       " 'up',\n",
       " 'tank',\n",
       " 'taking',\n",
       " 'over',\n",
       " 'chopper',\n",
       " 'hovering',\n",
       " 'maliciously',\n",
       " 'amidst',\n",
       " 'minaret',\n",
       " 'airlift',\n",
       " 'feature',\n",
       " 'akshay',\n",
       " 'best',\n",
       " 'based',\n",
       " 'reallife',\n",
       " 'character',\n",
       " 'there',\n",
       " 'little',\n",
       " 'khiladiwala',\n",
       " 'swag',\n",
       " 'akshays',\n",
       " 'performance',\n",
       " 'mature',\n",
       " 'control',\n",
       " 'ranjit',\n",
       " 'go',\n",
       " 'protecting',\n",
       " 'kin',\n",
       " 'countryman',\n",
       " 'akshay',\n",
       " 'polished',\n",
       " 'restrained',\n",
       " 'powerful',\n",
       " 'job',\n",
       " 'nimrat',\n",
       " 'conveys',\n",
       " 'brittle',\n",
       " 'edginess',\n",
       " 'asks',\n",
       " 'ranjit',\n",
       " 'ye',\n",
       " 'indianindian',\n",
       " 'khelna',\n",
       " 'kya',\n",
       " 'drama',\n",
       " 'ho',\n",
       " 'raha',\n",
       " 'hai',\n",
       " 'grows',\n",
       " 'woman',\n",
       " 'love',\n",
       " 'husband',\n",
       " 'humanitarian',\n",
       " 'heart',\n",
       " 'certain',\n",
       " 'cameo',\n",
       " 'outstanding',\n",
       " 'prakash',\n",
       " 'belawadi',\n",
       " 'brings',\n",
       " 'alive',\n",
       " 'surly',\n",
       " 'suspicious',\n",
       " 'george',\n",
       " 'kumud',\n",
       " 'mishra',\n",
       " 'deeply',\n",
       " 'impress',\n",
       " 'quietly',\n",
       " 'determined',\n",
       " 'mea',\n",
       " 'babu',\n",
       " 'inaamulhuq',\n",
       " 'ooze',\n",
       " 'smooth',\n",
       " 'menace',\n",
       " 'quote',\n",
       " 'amytabh',\n",
       " 'bachchan',\n",
       " 'ranjit',\n",
       " 'showing',\n",
       " 'business',\n",
       " 'partner',\n",
       " 'hanging',\n",
       " 'crane',\n",
       " 'outside',\n",
       " 'palace',\n",
       " 'full',\n",
       " 'bloodied',\n",
       " 'marble',\n",
       " 'broken',\n",
       " 'glass',\n",
       " 'airlift',\n",
       " 'scale',\n",
       " 'impressive',\n",
       " 'editing',\n",
       " 'hemanti',\n",
       " 'sarkar',\n",
       " 'deft',\n",
       " 'sequence',\n",
       " 'iraqi',\n",
       " 'soldier',\n",
       " 'brutally',\n",
       " 'molesting',\n",
       " 'indian',\n",
       " 'girl',\n",
       " 'looting',\n",
       " 'even',\n",
       " 'onion',\n",
       " 'cheerily',\n",
       " 'singing',\n",
       " 'ek',\n",
       " 'teen',\n",
       " 'dragging',\n",
       " 'young',\n",
       " 'mother',\n",
       " 'boy',\n",
       " 'fun',\n",
       " 'intense',\n",
       " 'movie',\n",
       " 'couldve',\n",
       " 'increased',\n",
       " 'intensity',\n",
       " 'horror',\n",
       " 'taut',\n",
       " 'timeticking',\n",
       " 'dread',\n",
       " 'typify',\n",
       " 'unforgettable',\n",
       " 'siegerescue',\n",
       " 'film',\n",
       " 'like',\n",
       " 'hotel',\n",
       " 'rwanda',\n",
       " '2004',\n",
       " 'vividly',\n",
       " 'felt',\n",
       " 'humanity',\n",
       " 'running',\n",
       " 'second',\n",
       " 'airlift',\n",
       " 'depicts',\n",
       " 'desperation',\n",
       " 'sound',\n",
       " 'light',\n",
       " 'darkness',\n",
       " 'broad',\n",
       " 'stroke',\n",
       " 'fine',\n",
       " 'detail',\n",
       " 'yet',\n",
       " 'airlift',\n",
       " 'work',\n",
       " 'conveys',\n",
       " 'time',\n",
       " 'army',\n",
       " 'attack',\n",
       " 'civilian',\n",
       " 'youre',\n",
       " 'struck',\n",
       " 'born',\n",
       " 'iraqi',\n",
       " 'army',\n",
       " 'core',\n",
       " 'raise',\n",
       " 'bollywood',\n",
       " 'generic',\n",
       " 'bar',\n",
       " 'plus',\n",
       " 'movingly',\n",
       " 'celebrates',\n",
       " 'beautiful',\n",
       " 'flag',\n",
       " 'world']"
      ]
     },
     "execution_count": 14,
     "metadata": {},
     "output_type": "execute_result"
    }
   ],
   "source": [
    "# inference\n",
    "# Copy the input review in the test variable\n",
    "\n",
    "test = \"So, Airlift has one of Akshay Kumar's best performances - along with other sterling acts. Rich Indian-origin businessman Ranjit Katyal (Akshay) loves profits and dislikes the idea of India. But Ranjit's golden life in the desert crumbles when Iraqi forces invade Kuwait. Suddenly, people are savagely shot in the streets, houses looted, buildings blown up, tanks taking over, choppers hovering maliciously amidst minarets. Airlift features Akshay at his best - based on real-life characters, there's little khiladi-wala swag in Akshay's performance and more mature control. As Ranjit, who goes from protecting his kin to his countrymen, Akshay does a polished, restrained, powerful job. Nimrat conveys brittle edginess - she asks Ranjit, Ye Indian-Indian khelna, kya drama ho raha hai? - but grows into a woman who loves her husband's humanitarian heart. Certain cameos are outstanding. Prakash Belawadi brings alive surly, suspicious George, Kumud Mishra deeply impresses as a quietly determined MEA babu and Inaamulhuq oozes smooth menace as he quotes 'Amytabh Bachchan' to Ranjit - before showing him his business partner, hanging from a crane outside a palace full of bloodied marble and broken glass. Airlift's scale is impressive and editing (Hemanti Sarkar) deft. Some sequences - Iraqi soldiers brutally molesting an Indian girl, looting even onions, cheerily singing 'Ek Do Teen', dragging out a young mother, so the boys can have some fun with her - are intense. But the movie could've increased this intensity, the horror and taut, time-ticking dread that typify unforgettable siege/rescue films like Hotel Rwanda (2004), where you vividly felt humanity running out each second. Airlift depicts desperation but with more sound and light than darkness, more broad strokes than fine detail. Yet, Airlift works because it conveys a time when armies will attack civilians - you're struck by how IS was born from the Iraqi army's core - and raises Bollywood's generic bar. Plus, it movingly celebrates the most beautiful flag in the world.\"\n",
    "test = clean_review(test).split()\n",
    "test"
   ]
  },
  {
   "cell_type": "code",
   "execution_count": 15,
   "metadata": {},
   "outputs": [
    {
     "name": "stdout",
     "output_type": "stream",
     "text": [
      "[(0, 0.032923248), (1, 0.089477375), (2, 0.061083086), (3, 0.56423235), (4, 0.25228399)]\n"
     ]
    }
   ],
   "source": [
    "\n",
    "test = dictionary.doc2bow(test)\n",
    "print(ldamodel[test])\n",
    "a = list(sorted(ldamodel[test], key=lambda x: x[1]))"
   ]
  },
  {
   "cell_type": "code",
   "execution_count": 16,
   "metadata": {},
   "outputs": [
    {
     "data": {
      "text/plain": [
       "[(0, 0.03292397),\n",
       " (2, 0.06108385),\n",
       " (1, 0.089471988),\n",
       " (4, 0.25228694),\n",
       " (3, 0.56423324)]"
      ]
     },
     "execution_count": 16,
     "metadata": {},
     "output_type": "execute_result"
    }
   ],
   "source": [
    "a"
   ]
  },
  {
   "cell_type": "code",
   "execution_count": 17,
   "metadata": {},
   "outputs": [
    {
     "name": "stdout",
     "output_type": "stream",
     "text": [
      "The words associated with least related topic to the test review are\n"
     ]
    },
    {
     "data": {
      "text/plain": [
       "'0.003*\"life\" + 0.002*\"character\" + 0.002*\"love\" + 0.001*\"film\" + 0.001*\"food\" + 0.001*\"aur\" + 0.001*\"though\" + 0.001*\"one\" + 0.001*\"look\" + 0.001*\"hai\"'"
      ]
     },
     "execution_count": 17,
     "metadata": {},
     "output_type": "execute_result"
    }
   ],
   "source": [
    "# Least related topic to the test review is the first element of the sorted list a\n",
    "print(\"The words associated with least related topic to the test review are\")\n",
    "ldamodel.print_topic(a[0][0])\n"
   ]
  },
  {
   "cell_type": "code",
   "execution_count": 18,
   "metadata": {},
   "outputs": [
    {
     "name": "stdout",
     "output_type": "stream",
     "text": [
      "The words associated with most probable topic related to the test review are\n"
     ]
    },
    {
     "data": {
      "text/plain": [
       "'0.017*\"film\" + 0.010*\"one\" + 0.010*\"character\" + 0.009*\"like\" + 0.007*\"make\" + 0.007*\"story\" + 0.006*\"even\" + 0.006*\"it\" + 0.006*\"audience\" + 0.005*\"part\"'"
      ]
     },
     "execution_count": 18,
     "metadata": {},
     "output_type": "execute_result"
    }
   ],
   "source": [
    "# Most probable topic related to the test review is the last element of the sorted list a\n",
    "print(\"The words associated with most probable topic related to the test review are\")\n",
    "ldamodel.print_topic(a[-1][0])"
   ]
  }
 ],
 "metadata": {
  "kernelspec": {
   "display_name": "Python 3",
   "language": "python",
   "name": "python3"
  },
  "language_info": {
   "codemirror_mode": {
    "name": "ipython",
    "version": 3
   },
   "file_extension": ".py",
   "mimetype": "text/x-python",
   "name": "python",
   "nbconvert_exporter": "python",
   "pygments_lexer": "ipython3",
   "version": "3.6.3"
  }
 },
 "nbformat": 4,
 "nbformat_minor": 2
}
